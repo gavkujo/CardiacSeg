{
 "cells": [
  {
   "cell_type": "markdown",
   "metadata": {},
   "source": [
    "# Datasets\n",
    "\n",
    "**ED: End-Diastole**\n",
    "\n",
    "This refers to the point in the cardiac cycle when the heart's ventricles are fully relaxed and filled with blood. It represents the moment just before the ventricles contract.\n",
    "\n",
    "**ES: End-Systole**\n",
    "\n",
    "This refers to the point in the cardiac cycle when the heart's ventricles are fully contracted after pumping blood out to the body and lungs.\n",
    "\n"
   ]
  },
  {
   "cell_type": "markdown",
   "metadata": {},
   "source": [
    "## 1. ACDC\n",
    "\n",
    "https://www.creatis.insa-lyon.fr/Challenge/acdc/databases.html\n",
    "\n",
    "- Data Type: MR\n",
    "\n",
    "- Dimension: 3D & 4D tensor, (216, 256, 10, 30)\n",
    "\n",
    "- Segmenting: left ventricle (LV), the myocardium (MYO), the right ventricle (RV), and the left ventricle blood pool\n",
    "\n",
    "- Temporal Info: Frame 1 (ED) and 12 (ES) are annotated\n",
    "\n",
    "- Health/Disease info about patient: DCM, HCM, MINF, RV, NOR\n",
    "\n",
    "- Size of data: 150 patients"
   ]
  },
  {
   "cell_type": "markdown",
   "metadata": {},
   "source": [
    "## 2. M&M\n",
    "\n",
    "https://www.ub.edu/mnms/\n",
    "\n",
    "- Data Type: MR\n",
    "\n",
    "- Dimension: 4D tensor (216,256,13,25)\n",
    "\n",
    "- Segmenting: LV, MYO, RV\n",
    "\n",
    "- Temporal Info: ED and ES Frames are noted in Excel\n",
    "\n",
    "- Health/Disease info about patient: DCM, HCM, HHD, AHS, NOR, Other\n",
    "\n",
    "- Size of data: 345 patients"
   ]
  },
  {
   "cell_type": "markdown",
   "metadata": {},
   "source": [
    "## 3. CAMUS\n",
    "\n",
    "https://www.creatis.insa-lyon.fr/Challenge/camus/index.html\n",
    "\n",
    "- Data Type: 2D Echocardiography\n",
    "\n",
    "- Dimension: 2D, 3D tensor - half sequence (549, 389, 20 or 18)\n",
    "\n",
    "- Segmenting: \n",
    "    \n",
    "        2CH: Shows two chambers of the heart, the left ventricle (LV) and the left atrium (LA).\n",
    "\n",
    "        4CH: Shows all four chambers of the heart—both ventricles and atria\n",
    "\n",
    "- Temporal Info: ED and ES are separately annotated for 2CH and 4CH\n",
    "\n",
    "- Health/Disease info about patient: \n",
    "\n",
    "Patients with an ejection fraction lower that 45% - potential heart dysfunction\n",
    "\n",
    "Patients with an ejection fraction higher that 55% - normal heart function\n",
    "\n",
    "- Size of data: 500 Patients"
   ]
  },
  {
   "cell_type": "markdown",
   "metadata": {},
   "source": [
    "## 4. ImageCHD\n",
    "\n",
    "https://www.kaggle.com/datasets/xiaoweixumedicalai/imagechd\n",
    "\n",
    "- Data Type: CT\n",
    "\n",
    "- Dimension: 3D tensor, 512× 512×(129-357)\n",
    "\n",
    "- Segmenting: 7 labels\n",
    "\n",
    "        LV, RV, LA, RA, Myo, AO and PA\n",
    "\n",
    "        left ventricle (label: 1), right ventricle (label: 2), left atrium (label: 3), right atrium (label: 4), myocardium (label: 5), aorta (label: 6), and pulmonary artery (label: 7)\n",
    "\n",
    "- Temporal Info: No\n",
    "\n",
    "- Health/Disease info about patient: Congenital Heart Disease (CHD), 16 types of CHD (originally for classification)\n",
    "\n",
    "- Size of data: 110 patients\n",
    "\n",
    "- Notes: Patients with CHD typically suffer from severe variation in heart structures and connections between different parts of the anatomy. "
   ]
  }
 ],
 "metadata": {
  "language_info": {
   "name": "python"
  }
 },
 "nbformat": 4,
 "nbformat_minor": 2
}
